{
 "cells": [
  {
   "cell_type": "markdown",
   "id": "1784ed82",
   "metadata": {
    "scrolled": true
   },
   "source": [
    "import pathlib\n",
    "import typing\n",
    "import numpy as np\n",
    "from scipy.sparse import load_npz, lil_matrix, csr_matrix\n",
    "import json\n",
    "from tqdm import tqdm\n",
    "import pandas as pd\n",
    "from nltk.corpus import wordnet as wn\n",
    "from functools import partial\n",
    "import scipy\n",
    "from pprint import pprint as pp\n",
    "from copy import copy\n",
    "import re\n",
    "from collections import defaultdict\n",
    "import os\n",
    "from top2vec import Top2Vec\n",
    "from tqdm.contrib.concurrent import process_map\n",
    "from itertools import cycle"
   ]
  },
  {
   "cell_type": "code",
   "execution_count": 40,
   "id": "979b8427",
   "metadata": {
    "scrolled": true
   },
   "outputs": [],
   "source": [
    "import pathlib\n",
    "import typing\n",
    "import numpy as np\n",
    "from scipy.sparse import load_npz, lil_matrix, csr_matrix\n",
    "import json\n",
    "from tqdm import tqdm\n",
    "import pandas as pd\n",
    "from nltk.corpus import wordnet as wn\n",
    "from functools import partial\n",
    "import scipy\n",
    "from pprint import pprint as pp\n",
    "from copy import copy\n",
    "import re\n",
    "from collections import defaultdict\n",
    "import os\n",
    "from top2vec import Top2Vec\n",
    "from tqdm.contrib.concurrent import process_map\n",
    "from itertools import cycle"
   ]
  },
  {
   "cell_type": "markdown",
   "id": "2742ebbd",
   "metadata": {},
   "source": [
    "# Noun-Feature mutual affinity scores"
   ]
  },
  {
   "cell_type": "markdown",
   "id": "71f3d7c9",
   "metadata": {},
   "source": [
    "The noun-feature mutual affinity scores are given by: \n",
    "\n",
    "```\n",
    "    some metric proportional to (LLR-based) rank within row \n",
    "    \n",
    "                            x\n",
    "                            \n",
    "    some metrix proportion to (LLR-based) rank within column\n",
    "```                       \n",
    "                      \n",
    "\n",
    "<div>\n",
    "<img src=\"Affinity_in_one.png\" width=\"200\"/>\n",
    "</div>"
   ]
  },
  {
   "cell_type": "markdown",
   "id": "af26ea40",
   "metadata": {},
   "source": [
    "but to avoid the unnecesary computational intensity we concentrate on retrieving the affinity scores for a row or for a column separately, as required, according to the following functions\n",
    "\n",
    "i.e., wrt., function affinities_for_row:\n",
    "<div>\n",
    "<img src=\"Affinity_for_row.png\" width=\"200\"/>\n",
    "</div>\n",
    "\n"
   ]
  },
  {
   "cell_type": "code",
   "execution_count": 41,
   "id": "6fbe5f71",
   "metadata": {
    "scrolled": false
   },
   "outputs": [],
   "source": [
    "def affinities_for_row(i, L, cutoff=0):\n",
    "    \"\"\" Return the metrics to enable feature ranking wrt., some noun at row, i.\n",
    "    \n",
    "    \n",
    "        for some row i, return ... \n",
    "        i) an array, corresponding to every column, of the proportion of other nouns with a greater llr than the row.\n",
    "        ii) an array, corresponding to every column, of the proportion of other columns in the row with a higher llr.\n",
    "    \"\"\"\n",
    "    \n",
    "    # ------\n",
    "    # get subset of L, for those columns where LLR(row) > cutoff\n",
    "    # ------\n",
    "    \n",
    "    columns = np.array(range(L.shape[1]))\n",
    "    row = L[i,:].toarray().squeeze()\n",
    "    coincident_columns = row > cutoff\n",
    "    M =  L[:,coincident_columns].toarray()\n",
    "    \n",
    "    # within--row ranks and within_col ranks for each element in the row\n",
    "    rank_within_row = (M[i,:] > M[i,:].reshape(-1,1)).sum(axis=1) + 1  # Rr\n",
    "    Mr = (1-(rank_within_row-1)/M.shape[1])\n",
    "    \n",
    "    ranks_within_cols = (M > M[i,:]).sum(axis=0) + 1  # Rc\n",
    "    Nr = (M>cutoff).sum(axis=0) # i.e., number of rows above threshold wrt., each column, separately\n",
    "    Mc = (1-(ranks_within_cols-1)/Nr)\n",
    "    \n",
    "    # affinity\n",
    "    mutual_affinity = Mr * Mc  # high means high affinity\n",
    "    \n",
    "    # return sorted by descending mutual affinity \n",
    "    return sorted(list(zip(columns[coincident_columns], M[i,:], mutual_affinity, rank_within_row, [M.shape[1]]*M.shape[1], ranks_within_cols, Nr)), key=lambda x: x[2], reverse=True)\n"
   ]
  },
  {
   "cell_type": "markdown",
   "id": "8df49ce2",
   "metadata": {},
   "source": [
    "... and wrt, function affinities_for_column:\n",
    "\n",
    "<div>\n",
    "<img src=\"Affinity_for_col.png\" width=\"200\"/>\n",
    "</div>"
   ]
  },
  {
   "cell_type": "code",
   "execution_count": 74,
   "id": "1d2335a0",
   "metadata": {
    "scrolled": true
   },
   "outputs": [],
   "source": [
    "def affinities_for_column(j, L, cutoff=0):\n",
    "    \"\"\" for some column, return ...\n",
    "        i)\n",
    "        ii) an array, corresponding to every row, of the proportion of other rows in the column with a higher llr\n",
    "    \"\"\"\n",
    "    \n",
    "    # ------\n",
    "    # get L subset, for those rows where LLR(row, j) > cutoff\n",
    "    # ------\n",
    "    rows = np.array(range(L.shape[0]))\n",
    "    column = L[:,j].toarray().squeeze()\n",
    "    coincident_rows = column > cutoff \n",
    "    M =  L[coincident_rows,:].toarray()\n",
    "    \n",
    "    rank_within_col = (M[:,j] > M[:,j].reshape(-1,1)).sum(axis=1) + 1  # Rc\n",
    "    Mc = (1-(rank_within_col-1)/M.shape[0])\n",
    "    \n",
    "    ranks_within_rows = (M > M[:,j].reshape(-1,1)).sum(axis=1) + 1  # Rr\n",
    "    Nc = (M>cutoff).sum(axis=1)  # i.e., number of cols above threshold wrt., each row\n",
    "    Mr = (1-(ranks_within_rows-1)/Nc)\n",
    "    \n",
    "    # affinity\n",
    "    mutual_affinity = Mr * Mc  # high means high affinity\n",
    "    \n",
    "    return sorted(list(zip(rows[coincident_rows], M[:,j], mutual_affinity, ranks_within_rows, Nc, rank_within_col, [M.shape[0]]*M.shape[0])), key=lambda x: x[2], reverse=True)\n"
   ]
  },
  {
   "cell_type": "code",
   "execution_count": 43,
   "id": "6a96c538",
   "metadata": {
    "scrolled": true
   },
   "outputs": [
    {
     "data": {
      "text/plain": [
       "270.7218769362335"
      ]
     },
     "execution_count": 43,
     "metadata": {},
     "output_type": "execute_result"
    }
   ],
   "source": [
    "from scipy.stats import binom\n",
    "\n",
    "def LLR(c: np.ndarray, F: np.ndarray):\n",
    "    \"\"\" Where c is a 1D array column of noun counts, from some feature.\n",
    "        Return a 1D array of LLRs for each noun.\n",
    "    \"\"\"\n",
    "    \n",
    "    # a = study corpus, i.e., noun and noun' counts for feature\n",
    "    fn = c \n",
    "    f_n = c.sum() - c\n",
    "    \n",
    "    # _a = reference corpus, i.e, noun and noun' counts for feature'\n",
    "    _fn = F.sum(axis=1) - c \n",
    "    _f_n = F.sum() - fn - f_n - _fn\n",
    "    \n",
    "    # generative process 1, i.e., nouns are spawned according to different probabilities depending on associated feature group\n",
    "    pnf = fn / (fn + f_n)  # P(n|f)\n",
    "    pn_f = _fn / (_fn + _f_n)  # P(n|f')\n",
    "    \n",
    "    # generative process 2, i.e., nouns are spawned at same probability regardless of associated feature group\n",
    "    p = (fn + _fn) / (F.sum())\n",
    "    \n",
    "    # LLR = 2 * log(L(observed noun & noun' freqs | generative process 1) / L( observed noun & noun' freqs | generative process 2))\n",
    "    # where e.g., L(observed noun & noun' freqs | generative process 1) is product wrt., feature group and not feature group sets\n",
    "    LL = lambda k, n, p: np.log(binom.pmf(k,n,p))\n",
    "    LLRs = 2*(LL(fn, fn + f_n, pnf) + LL(_fn, _fn + _f_n, pn_f) - LL(fn, fn + f_n, p) - LL(_fn, _fn + _f_n, p))\n",
    "    \n",
    "    return LLRs\n",
    "\n",
    "# test as per Dunning paper\n",
    "F = np.array([[110, 2442],[111, 29114]])\n",
    "c = F[:,0]\n",
    "LLR(c,F)[0]"
   ]
  },
  {
   "cell_type": "code",
   "execution_count": 44,
   "id": "f38203cf",
   "metadata": {
    "scrolled": true
   },
   "outputs": [],
   "source": [
    "def log_binom(k: np.ndarray, n: float, p: np.ndarray) -> np.ndarray:\n",
    "\n",
    "    result = np.zeros(len(k))\n",
    "    # Note: @p==1, log(p) = 0: hence handled implicity\n",
    "\n",
    "    # where p > 0 and p < 1\n",
    "    mask = (p > 0) & (p < 1)\n",
    "    result[mask] = k[mask] * np.log(p[mask]) + (n - k[mask]) * np.log(1 - p[mask])\n",
    "\n",
    "    return result\n",
    "\n",
    "\n",
    "\n",
    "def get_llr_profile(row_is: list[int], F) -> np.ndarray:\n",
    "    \"\"\"Build a llr profile for row_i\n",
    "    where row_i is the study corpus and row_i' is the ref corpus.\n",
    "    \"\"\"\n",
    "\n",
    "    # get the study corpus and ref_corpus\n",
    "    study = F[row_is, :].toarray().sum(axis=0).squeeze()  # i.e., freqs wrt., noun\n",
    "    global_profile = np.array(F.sum(axis=0)).squeeze()\n",
    "    ref = (\n",
    "        global_profile - study\n",
    "    )  # freqs aggregated over all nouns except (excl. study results)\n",
    "\n",
    "    # build llr profile\n",
    "    llr_profile = np.zeros(len(study))\n",
    "\n",
    "    n1 = study.sum()\n",
    "    n2 = ref.sum()\n",
    "    n = n1 + n2\n",
    "\n",
    "    study_mle = study / n1\n",
    "    ref_mle = ref / n2\n",
    "    p = (study + ref) / n  # combined mle\n",
    "\n",
    "    # i.e., where study = 0, make the result 0, as the entry is irrelevant to study\n",
    "    mask = study > 0\n",
    "    llr_profile[mask] = 2 * (\n",
    "        # alt\n",
    "        log_binom(study[mask], n1, study_mle[mask])\n",
    "        + log_binom(ref[mask], n2, ref_mle[mask])\n",
    "        # null\n",
    "        - log_binom(study[mask], n1, p[mask])\n",
    "        - log_binom(ref[mask], n2, p[mask])\n",
    "    )\n",
    "\n",
    "    return lil_matrix(llr_profile)\n"
   ]
  },
  {
   "cell_type": "markdown",
   "id": "01c555d3",
   "metadata": {},
   "source": [
    "# English Literature"
   ]
  },
  {
   "cell_type": "markdown",
   "id": "c6adf1b3",
   "metadata": {},
   "source": [
    "## token level"
   ]
  },
  {
   "cell_type": "markdown",
   "id": "35b5c270",
   "metadata": {},
   "source": [
    "### Load the frequency tables and LLR tables"
   ]
  },
  {
   "cell_type": "code",
   "execution_count": 107,
   "id": "43f5e669",
   "metadata": {
    "scrolled": false
   },
   "outputs": [
    {
     "name": "stdout",
     "output_type": "stream",
     "text": [
      "(243529, 299557)\n",
      "29763170\n"
     ]
    }
   ],
   "source": [
    "# load noun,adj pair info\n",
    "L_adj = load_npz(pathlib.Path('LLR/llr_scores/PR/adj/llr_profiles.npz'))\n",
    "F_adj = load_npz(pathlib.Path('LLR/llr_scores/PR/adj/freq_profiles.npz'))\n",
    "print(L_adj.shape)\n",
    "print(F_adj.sum())\n",
    "with open('LLR/llr_scores/PR/adj/feature2i.json', \"r\", encoding='utf-8') as f:\n",
    "    feature2j_adj =  json.load(f)\n",
    "j2feature_adj = {j:feature for feature, j in feature2j_adj.items()}\n",
    "\n",
    "          \n",
    "with open('LLR/llr_scores/PR/adj/noun2i.json', \"r\", encoding='utf-8') as f:\n",
    "    noun2i_adj =  json.load(f)\n",
    "i2noun_adj = {i: noun for noun, i in noun2i_adj.items()}\n",
    "    "
   ]
  },
  {
   "cell_type": "code",
   "execution_count": 108,
   "id": "795206c4",
   "metadata": {
    "scrolled": false
   },
   "outputs": [
    {
     "name": "stdout",
     "output_type": "stream",
     "text": [
      "(238142, 48704)\n",
      "16157119\n"
     ]
    }
   ],
   "source": [
    "# load agent, verb info\n",
    "L_agent = load_npz(pathlib.Path('LLR/llr_scores/PR/agent/llr_profiles.npz'))\n",
    "F_agent = load_npz(pathlib.Path('LLR/llr_scores/PR/agent/freq_profiles.npz'))\n",
    "print(L_agent.shape)\n",
    "print(F_agent.sum())\n",
    "\n",
    "with open('LLR/llr_scores/PR/agent/feature2i.json', \"r\", encoding='utf-8') as f:\n",
    "    feature2j_agent =  json.load(f)\n",
    "j2feature_agent = {j:feature for feature, j in feature2j_agent.items()}\n",
    "\n",
    "          \n",
    "with open('LLR/llr_scores/PR/agent/noun2i.json', \"r\", encoding='utf-8') as f:\n",
    "    noun2i_agent =  json.load(f)\n",
    "i2noun_agent = {i: noun for noun, i in noun2i_agent.items()}"
   ]
  },
  {
   "cell_type": "code",
   "execution_count": 109,
   "id": "a8b1cd54",
   "metadata": {
    "scrolled": false
   },
   "outputs": [
    {
     "name": "stdout",
     "output_type": "stream",
     "text": [
      "(163198, 35484)\n",
      "8996080\n"
     ]
    }
   ],
   "source": [
    "# load patient, verb info\n",
    "L_patient = load_npz(pathlib.Path('LLR/llr_scores/PR/patient/llr_profiles.npz'))\n",
    "F_patient = load_npz(pathlib.Path('LLR/llr_scores/PR/patient/freq_profiles.npz'))\n",
    "print(L_patient.shape)\n",
    "print(F_patient.sum())\n",
    "\n",
    "with open('LLR/llr_scores/PR/patient/feature2i.json', \"r\", encoding='utf-8') as f:\n",
    "    feature2j_patient =  json.load(f)\n",
    "j2feature_patient = {j:feature for feature, j in feature2j_patient.items()}\n",
    "\n",
    "          \n",
    "with open('LLR/llr_scores/PR/patient/noun2i.json', \"r\", encoding='utf-8') as f:\n",
    "    noun2i_patient =  json.load(f)\n",
    "i2noun_patient = {i: noun for noun, i in noun2i_patient.items()}"
   ]
  },
  {
   "cell_type": "markdown",
   "id": "cc6fa3c5",
   "metadata": {},
   "source": [
    "### quick feature -> noun"
   ]
  },
  {
   "cell_type": "code",
   "execution_count": 146,
   "id": "340b95f7",
   "metadata": {
    "scrolled": true
   },
   "outputs": [
    {
     "name": "stdout",
     "output_type": "stream",
     "text": [
      "where feature is a adj\n",
      "where feature is a agent\n",
      "[('husband', 153.55315428091853, '7/2209', '3/2730', 1, 0.9965532279701588),\n",
      " ('Writers', 42.23149923517485, '1/38', '15/2730', 2, 0.9948717948717949),\n",
      " ('fecklessness', 37.36393086754833, '1/3', '17/2730', 3, 0.9941391941391942),\n",
      " ('gudeman', 31.950964720876073, '1/35', '25/2730', 4, 0.9912087912087912),\n",
      " ('Tolstoy', 31.950964720876073, '1/41', '25/2730', 5, 0.9912087912087912),\n",
      " ('compromising', 31.280646647021058, '1/1', '28/2730', 6, 0.9901098901098901),\n",
      " ('Recommender', 31.280646647021058, '1/1', '28/2730', 7, 0.9901098901098901),\n",
      " ('Cavolfiore', 31.280646647021058, '1/1', '28/2730', 8, 0.9901098901098901),\n",
      " ('dacotah', 27.462364790582797, '1/2', '34/2730', 9, 0.987912087912088),\n",
      " ('world', 188.6730186945788, '35/2593', '1/2730', 10, 0.9868877747782492),\n",
      " ('father', 170.32571349559294, '48/3550', '2/2730', 11, 0.9863991126244648),\n",
      " ('author', 96.01161881857843, '23/1683', '5/2730', 12, 0.9854820560702914),\n",
      " ('Confident', 23.645689231037977, '1/3', '42/2730', 13, 0.984981684981685),\n",
      " ('Gorion', 22.908888164325617, '1/6', '45/2730', 14, 0.9838827838827838),\n",
      " ('Addington', 22.84765962198435, '1/39', '46/2730', 15, 0.9835164835164835),\n",
      " ('Montenegro', 21.7515571226686, '1/7', '49/2730', 16, 0.9824175824175824),\n",
      " ('dramatist', 34.366888530843426, '5/383', '22/2730', 17, 0.9819441654950793),\n",
      " ('writer', 76.83965131164587, '24/1443', '7/2730', 18, 0.9818982126674435),\n",
      " ('Steyne', 19.700901652118773, '1/65', '64/2730', 19, 0.9769230769230769),\n",
      " ('gentleman', 61.24761269900773, '53/2490', '9/2730', 20, 0.9762472601026818),\n",
      " ('Furnuwees', 19.51085359955323, '1/13', '68/2730', 21, 0.9754578754578754),\n",
      " ('paleface', 19.51085359955323, '1/11', '68/2730', 22, 0.9754578754578754),\n",
      " ('Kielmansegg', 19.51085359955323, '1/13', '68/2730', 23, 0.9754578754578754),\n",
      " ('Johnson', 49.74423341610236, '29/1177', '12/2730', 24, 0.9722772554548256),\n",
      " ('Costrell', 18.507461435932782, '1/12', '77/2730', 25, 0.9721611721611721),\n",
      " ('Borough', 18.29178443714045, '1/15', '78/2730', 26, 0.9717948717948718),\n",
      " ('stepmother', 19.43554913251137, '3/271', '71/2730', 27, 0.9671681332197937),\n",
      " ('woman', 56.582941833577934, '127/3974', '10/2730', 28, 0.9651017326910634),\n",
      " ('hooligan', 15.747784454055363, '1/35', '97/2730', 29, 0.9648351648351648),\n",
      " ('sim’lar', 15.640169254664215, '1/1', '98/2730', 30, 0.9644688644688645),\n",
      " ('Lowestofts', 15.640169254664215, '1/1', '98/2730', 31, 0.9644688644688645),\n",
      " ('brandes', 15.640169254664215, '1/1', '98/2730', 32, 0.9644688644688645),\n",
      " ('Wyllarde', 15.640169254664215, '1/1', '98/2730', 33, 0.9644688644688645),\n",
      " (\"D'Offkirk\", 15.640169254664215, '1/1', '98/2730', 34, 0.9644688644688645),\n",
      " ('Shuckburgh', 15.640169254664215, '1/1', '98/2730', 35, 0.9644688644688645),\n",
      " ('master[1303', 15.640169254664215, '1/1', '98/2730', 36, 0.9644688644688645),\n",
      " ('Nains', 15.640169254664215, '1/1', '98/2730', 37, 0.9644688644688645),\n",
      " ('young[1', 15.640169254664215, '1/1', '98/2730', 38, 0.9644688644688645),\n",
      " ('Vyvie', 15.640169254664215, '1/1', '98/2730', 39, 0.9644688644688645),\n",
      " ('brieflier', 15.640169254664215, '1/1', '98/2730', 40, 0.9644688644688645),\n",
      " ('Scortia', 15.640169254664215, '1/1', '98/2730', 41, 0.9644688644688645),\n",
      " ('Niblick', 15.640169254664215, '1/1', '98/2730', 42, 0.9644688644688645),\n",
      " ('vasthi', 15.640169254664215, '1/1', '98/2730', 43, 0.9644688644688645),\n",
      " (\"d'Aurevilly\", 15.640169254664215, '1/1', '98/2730', 44, 0.9644688644688645),\n",
      " ('Daykin', 15.640169254664215, '1/1', '98/2730', 45, 0.9644688644688645),\n",
      " ('Pendles', 15.640169254664215, '1/1', '98/2730', 46, 0.9644688644688645),\n",
      " ('dalilah', 15.640169254664215, '1/1', '98/2730', 47, 0.9644688644688645),\n",
      " ('Musen_[83', 15.640169254664215, '1/1', '98/2730', 48, 0.9644688644688645),\n",
      " ('schemes--\"we', 15.640169254664215, '1/1', '98/2730', 49, 0.9644688644688645),\n",
      " (\"Sto'll\", 15.640169254664215, '1/1', '98/2730', 50, 0.9644688644688645),\n",
      " ('Weldarts', 15.640169254664215, '1/1', '98/2730', 51, 0.9644688644688645),\n",
      " ('degagement', 15.640169254664215, '1/1', '98/2730', 52, 0.9644688644688645),\n",
      " ('Mamlouks', 15.640169254664215, '1/1', '98/2730', 53, 0.9644688644688645),\n",
      " ('Carmodys', 15.640169254664215, '1/1', '98/2730', 54, 0.9644688644688645),\n",
      " ('Buskes', 15.640169254664215, '1/1', '98/2730', 55, 0.9644688644688645),\n",
      " ('Saintships', 15.640169254664215, '1/1', '98/2730', 56, 0.9644688644688645),\n",
      " ('basketwoman', 15.640169254664215, '1/1', '98/2730', 57, 0.9644688644688645),\n",
      " ('Hitherto', 21.023322228706093, '4/160', '54/2730', 58, 0.9622000915750915),\n",
      " ('Gauls', 23.352533683326328, '2/39', '44/2730', 59, 0.9590119282426975),\n",
      " ('ladyship', 30.841384855506476, '32/997', '31/2730', 60, 0.9582593935653113),\n",
      " ('critic', 43.09163012758654, '40/1027', '13/2730', 61, 0.9577966337460009),\n",
      " ('official', 19.41678018379025, '13/636', '72/2730', 62, 0.9556154537286613),\n",
      " ('Sirkar', 25.337984519195743, '2/30', '37/2730', 63, 0.9539194139194139),\n",
      " ('master', 26.092569628133788, '66/1904', '36/2730', 64, 0.9534785067873304),\n",
      " ('emperor', 20.836931579760858, '12/402', '55/2730', 65, 0.9533978459351593),\n",
      " ('subject', 35.05171955181868, '40/963', '19/2730', 66, 0.9531751737359214),\n",
      " ('Government', 31.522254811090534, '32/812', '27/2730', 67, 0.95266244428806),\n",
      " ('reviewer', 20.550667520728894, '8/255', '57/2730', 68, 0.9525992961287079),\n",
      " ('man', 71.25149952397624, '350/7604', '8/2730', 69, 0.9516566854152335),\n",
      " ('Shakespeare',\n",
      "  42.86799830786185,\n",
      "  '53/1179',\n",
      "  '14/2730',\n",
      "  70,\n",
      "  0.9513429459994346),\n",
      " ('people', 81.64885284165211, '174/3593', '6/2730', 71, 0.95010750451886),\n",
      " ('Clive', 15.988996798536391, '8/422', '95/2730', 72, 0.9495512386507647),\n",
      " ('Hunt', 17.360311355339945, '11/446', '84/2730', 73, 0.9478572249872699),\n",
      " ('captor', 19.656122020227485, '11/321', '65/2730', 74, 0.9461344470690265),\n",
      " ('Fate', 34.52475537903956, '33/661', '21/2730', 75, 0.9446171579303198),\n",
      " ('Jackson', 16.244042052916484, '11/432', '93/2730', 76, 0.9439323022656356),\n",
      " ('landlord', 19.705024538678117, '33/912', '63/2730', 77, 0.9429985219458903),\n",
      " ('States', 17.486275333416415, '8/221', '83/2730', 78, 0.939240548290322),\n",
      " ('Oscian', 12.868383807697683, '1/2', '167/2730', 79, 0.9391941391941392),\n",
      " ('fancyman', 12.868383807697683, '1/2', '167/2730', 80, 0.9391941391941392),\n",
      " ('Congregationalists',\n",
      "  12.868383807697683,\n",
      "  '1/2',\n",
      "  '167/2730',\n",
      "  81,\n",
      "  0.9391941391941392),\n",
      " ('regale_\"--\"Papa',\n",
      "  12.868383807697683,\n",
      "  '1/2',\n",
      "  '167/2730',\n",
      "  82,\n",
      "  0.9391941391941392),\n",
      " ('recommender', 12.868383807697683, '1/2', '167/2730', 83, 0.9391941391941392),\n",
      " ('again—“he', 12.868383807697683, '1/2', '167/2730', 84, 0.9391941391941392),\n",
      " ('Dettingens', 12.868383807697683, '1/2', '167/2730', 85, 0.9391941391941392),\n",
      " ('Paolis', 12.868383807697683, '1/2', '167/2730', 86, 0.9391941391941392),\n",
      " ('Tostatus', 12.868383807697683, '1/2', '167/2730', 87, 0.9391941391941392),\n",
      " ('Pomare', 12.868383807697683, '1/2', '167/2730', 88, 0.9391941391941392),\n",
      " ('SENT', 12.868383807697683, '1/2', '167/2730', 89, 0.9391941391941392),\n",
      " ('Catsup', 12.868383807697683, '1/2', '167/2730', 90, 0.9391941391941392),\n",
      " ('Lewinsons', 12.868383807697683, '1/2', '167/2730', 91, 0.9391941391941392),\n",
      " ('family', 30.670340238895733, '79/1501', '32/2730', 92, 0.937269415017583),\n",
      " ('Levy', 16.381625612732023, '7/181', '92/2730', 93, 0.934622467771639),\n",
      " ('poet', 28.779416097153444, '106/1893', '33/2730', 94, 0.9334610450299833),\n",
      " ('tyrant', 21.610527811659267, '28/543', '52/2730', 95, 0.9325238297613988),\n",
      " ('mother', 36.29064683362958, '191/2951', '18/2730', 96, 0.9297888714696576),\n",
      " ('Plains', 17.041914640940377, '2/25', '87/2730', 97, 0.9297582417582417),\n",
      " ('Provana', 12.350187482807087, '1/59', '198/2730', 98, 0.9278388278388279),\n",
      " ('Defoe', 15.186825458105886, '9/289', '132/2730', 99, 0.9256613052460803),\n",
      " ('Minister',\n",
      "  14.790657431643922,\n",
      "  '18/626',\n",
      "  '136/2730',\n",
      "  100,\n",
      "  0.9247358073236668)]\n",
      "where feature is a patient\n",
      "[('subject', 1091.2903759846376, '4/1214', '1/2482', 1, 0.9975288303130149),\n",
      " ('kindness', 447.8031944442919, '2/519', '3/2482', 2, 0.9972689685582048),\n",
      " ('theme', 226.24618828558596, '1/373', '8/2482', 3, 0.9971796937953263),\n",
      " ('woman', 296.90931577824813, '5/2282', '4/2482', 4, 0.9970405676347353),\n",
      " ('respect', 449.0643959644076, '5/718', '2/2482', 5, 0.9940283130461327),\n",
      " ('contempt', 239.8026426378201, '4/466', '6/2482', 6, 0.9915606962403987),\n",
      " ('deference', 239.5028985082754, '2/137', '7/2482', 7, 0.9903009699030098),\n",
      " ('courtesy', 177.45690805785125, '3/302', '11/2482', 8, 0.9893751567577952),\n",
      " ('prisoner', 210.54085949319415, '8/812', '9/2482', 9, 0.9881838895217984),\n",
      " ('child', 152.8991399698716, '17/1994', '12/2482', 10, 0.9875795799970419),\n",
      " ('matter', 271.82037200058403, '19/1529', '5/2482', 11, 0.9866349686348643),\n",
      " ('familiarity', 85.15784212949802, '2/238', '25/2482', 12, 0.9861693267153759),\n",
      " ('consideration',\n",
      "  133.3330156685115,\n",
      "  '6/522',\n",
      "  '13/2482',\n",
      "  13,\n",
      "  0.9856329557488245),\n",
      " ('man', 198.8955521266471, '48/4278', '10/2482', 14, 0.9854272877857554),\n",
      " ('equal', 65.74563440195925, '1/59', '38/2482', 15, 0.9850926672038679),\n",
      " ('wife', 96.9268802183069, '16/1639', '18/2482', 16, 0.9840614474245071),\n",
      " ('daughter', 93.36690185761836, '12/1241', '20/2482', 17, 0.9835489172322753),\n",
      " ('civility', 89.63317707029637, '3/208', '22/2482', 18, 0.9820050517572677),\n",
      " ('slave', 81.33088228918496, '6/539', '27/2482', 19, 0.9803453137170185),\n",
      " ('gentleman', 74.59552301178337, '14/1270', '29/2482', 20, 0.9785980318133077),\n",
      " ('friend', 94.4564213816484, '29/1835', '19/2482', 21, 0.9775995889752265),\n",
      " ('boy', 72.45882994571002, '19/1596', '31/2482', 22, 0.9767710977685955),\n",
      " ('affair', 104.9849753168819, '18/890', '14/2482', 23, 0.9757612110566868),\n",
      " ('stranger', 67.44059790034953, '9/771', '36/2482', 24, 0.9756686534749287),\n",
      " ('lunatic', 39.284183593452326, '1/75', '62/2482', 25, 0.9754230459307011),\n",
      " ('folk', 41.170052824920276, '3/671', '58/2482', 26, 0.9741224746640791),\n",
      " ('girl', 74.31882130943995, '27/1759', '30/2482', 27, 0.9737074531853908),\n",
      " ('coldness', 47.84339735850517, '3/222', '48/2482', 28, 0.9722252470036515),\n",
      " ('indifference',\n",
      "  70.51062706111406,\n",
      "  '7/407',\n",
      "  '34/2482',\n",
      "  29,\n",
      "  0.9721582618439991),\n",
      " ('tenderness', 59.30196743196575, '7/502', '41/2482', 30, 0.9721243952473748),\n",
      " ('people', 75.56191770914302, '36/1906', '28/2482', 31, 0.9709583714179659),\n",
      " ('scorn', 88.73800174097414, '10/436', '23/2482', 32, 0.9706769474158897),\n",
      " ('heretic', 31.258794330075034, '1/83', '74/2482', 33, 0.9705882352941176),\n",
      " ('creature', 45.01917301774665, '10/1032', '53/2482', 34, 0.9705109345426607),\n",
      " ('servant', 71.6470597890293, '18/991', '33/2482', 35, 0.9701739507298157),\n",
      " ('patient', 45.860943737323396, '6/496', '51/2482', 36, 0.9699773855631515),\n",
      " ('leniency', 30.41399731222191, '1/33', '76/2482', 37, 0.9697824335213537),\n",
      " ('brother', 48.45921392083983, '18/1337', '46/2482', 38, 0.9693849568802634),\n",
      " ('disdain', 58.21530064498074, '4/208', '42/2482', 39, 0.9692962406248063),\n",
      " ('lady', 66.40151513031742, '30/1759', '37/2482', 40, 0.9692480573030883),\n",
      " ('Shavian', 28.673005912234657, '1/1', '80/2482', 41, 0.9681708299758259),\n",
      " ('ITALY', 28.673005912234657, '1/1', '80/2482', 42, 0.9681708299758259),\n",
      " ('Facilities', 28.673005912234657, '1/1', '80/2482', 43, 0.9681708299758259),\n",
      " ('Hareem', 28.673005912234657, '1/1', '80/2482', 44, 0.9681708299758259),\n",
      " ('Aretalogi', 28.673005912234657, '1/1', '80/2482', 45, 0.9681708299758259),\n",
      " ('corrupter', 28.673005912234657, '1/1', '80/2482', 46, 0.9681708299758259),\n",
      " ('friendliness',\n",
      "  38.457743988896254,\n",
      "  '2/137',\n",
      "  '64/2482',\n",
      "  47,\n",
      "  0.9675032496750325),\n",
      " ('sister', 43.448553812049795, '14/1160', '55/2482', 48, 0.9672802800855818),\n",
      " ('individual', 35.31891826051287, '5/492', '67/2482', 49, 0.9654946509175003),\n",
      " ('officer', 50.76334875468456, '15/813', '45/2482', 50, 0.9653574617937961),\n",
      " ('harshness', 47.42164383211639, '3/127', '49/2482', 51, 0.9652172809583331),\n",
      " ('mother', 60.037796227872605, '32/1523', '39/2482', 52, 0.9646468360772744),\n",
      " ('Punch', 27.020148000650806, '1/52', '90/2482', 53, 0.9641418211120064),\n",
      " ('politeness', 54.82217234498239, '5/202', '44/2482', 54, 0.963216345808634),\n",
      " ('Zelia', 24.855462614039425, '1/2', '94/2482', 55, 0.9625302175664786),\n",
      " ('Piomingo', 23.1309118893696, '1/2', '101/2482', 56, 0.959709911361805),\n",
      " ('Decie', 23.1309118893696, '1/3', '101/2482', 57, 0.959709911361805),\n",
      " ('Fellingham', 23.1309118893696, '1/2', '101/2482', 58, 0.959709911361805),\n",
      " ('Thana', 23.1309118893696, '1/2', '101/2482', 59, 0.959709911361805),\n",
      " ('faery', 23.1309118893696, '1/2', '101/2482', 60, 0.959709911361805),\n",
      " ('Sirdeller', 23.1309118893696, '1/2', '101/2482', 61, 0.959709911361805),\n",
      " ('Bows', 23.1309118893696, '1/3', '101/2482', 62, 0.959709911361805),\n",
      " ('Shelley', 35.38025644797017, '7/312', '65/2482', 63, 0.9554794520547945),\n",
      " ('impecuniosity',\n",
      "  21.041002736033988,\n",
      "  '1/5',\n",
      "  '119/2482',\n",
      "  64,\n",
      "  0.9524576954069299),\n",
      " ('Erme', 21.041002736033988, '1/5', '119/2482', 65, 0.9524576954069299),\n",
      " ('dirt', 39.82859546774125, '5/166', '61/2482', 66, 0.9523120685805269),\n",
      " ('manner', 46.094267077045515, '49/1683', '50/2482', 67, 0.9523004132427273),\n",
      " ('animal', 33.229220693261595, '18/793', '70/2482', 68, 0.9513582281709518),\n",
      " ('son', 41.76951064892637, '41/1470', '56/2482', 69, 0.951232547813646),\n",
      " ('relation', 31.62582089753414, '16/715', '72/2482', 70, 0.9510151411843596),\n",
      " ('guest', 48.26344449435419, '25/767', '47/2482', 71, 0.9507557412063073),\n",
      " ('insolence', 29.0459676442988, '6/236', '77/2482', 72, 0.9488418306723665),\n",
      " ('Felipa', 20.304940224988968, '1/6', '128/2482', 73, 0.9488315874294924),\n",
      " ('dandyism', 19.14908630491118, '1/8', '135/2482', 74, 0.9460112812248187),\n",
      " ('Labor', 19.14908630491118, '1/7', '135/2482', 75, 0.9460112812248187),\n",
      " ('pariah', 19.14908630491118, '1/6', '135/2482', 76, 0.9460112812248187),\n",
      " ('governess', 23.233219527450274, '4/199', '100/2482', 77, 0.9456387497519831),\n",
      " ('place', 69.64641172473785, '103/2462', '35/2482', 78, 0.9454391685120683),\n",
      " ('art', 40.52743927775009, '35/1044', '59/2482', 79, 0.9448257337890281),\n",
      " ('incident', 44.32185969558486, '22/597', '54/2482', 80, 0.9442215104531522),\n",
      " ('soldier', 28.943555904115783, '24/866', '78/2482', 81, 0.9432416865635811),\n",
      " ('Rosencrantz', 18.67729112833331, '1/7', '142/2482', 82, 0.943190975020145),\n",
      " ('disrespect', 71.72545877897937, '3/44', '32/2482', 83, 0.9426232510438796),\n",
      " ('person', 39.88568385918916, '56/1580', '60/2482', 84, 0.9422461979416356),\n",
      " ('Levett', 18.255816423523356, '1/9', '147/2482', 85, 0.9411764705882353),\n",
      " ('Imlay', 18.255816423523356, '1/8', '147/2482', 86, 0.9411764705882353),\n",
      " ('author', 34.11611911607906, '27/784', '68/2482', 87, 0.9407375964084264),\n",
      " ('sex', 25.332233653505682, '11/405', '93/2482', 88, 0.9391569920713084),\n",
      " ('latter', 20.466754801309435, '7/441', '124/2482', 89, 0.937511991097809),\n",
      " ('Lucio', 16.912814141789568, '1/11', '159/2482', 90, 0.9363416599516519),\n",
      " ('severity', 33.607142581066, '13/320', '69/2482', 91, 0.9361301369863014),\n",
      " ('lenity', 31.608020195708377, '2/27', '73/2482', 92, 0.9350285015071478),\n",
      " ('Beer', 16.139717846584972, '1/17', '166/2482', 93, 0.9335213537469782),\n",
      " ('brutality', 19.888474027175107, '3/132', '131/2482', 94, 0.9332649622738262),\n",
      " ('Constable', 16.0356302789005, '1/78', '169/2482', 95, 0.9323126510878323),\n",
      " ('Plan', 15.912376220527221, '1/16', '172/2482', 96, 0.9311039484286865),\n",
      " ('hand', 103.83730111733894, '168/2570', '15/2482', 97, 0.9297453729106375),\n",
      " ('nephew', 22.40051720403426, '12/385', '111/2482', 98, 0.9283757338551859),\n",
      " ('Padre', 14.938796390677453, '1/20', '179/2482', 99, 0.9282836422240129),\n",
      " ('inferior', 20.38563915582199, '2/43', '126/2482', 100, 0.9275527987556921)]\n"
     ]
    }
   ],
   "source": [
    "feature = \"treat\"\n",
    "for feature2j, i2noun, L, F, feature_type in [(feature2j_adj, i2noun_adj, L_adj, F_adj, \"adj\"), (feature2j_agent, i2noun_agent, L_agent, F_agent, \"agent\"), (feature2j_patient, i2noun_patient, L_patient, F_patient, \"patient\")]:\n",
    "    print(f\"where feature is a {feature_type}\")\n",
    "    if feature in feature2j:\n",
    "        pp([(i2noun[i], llr, f'{Rr}/{Nc}', f'{Rc}/{Nr}', rank, mutual_affinity) for rank, (i, llr, mutual_affinity, Rr, Nc, Rc, Nr) in enumerate(affinities_for_column(feature2j[feature], L), start=1)][:100])\n",
    "            "
   ]
  },
  {
   "cell_type": "markdown",
   "id": "c3cd5ea4",
   "metadata": {},
   "source": [
    "### quick noun -> feature"
   ]
  },
  {
   "cell_type": "code",
   "execution_count": 148,
   "id": "c8f2ffd2",
   "metadata": {
    "scrolled": false
   },
   "outputs": [
    {
     "name": "stdout",
     "output_type": "stream",
     "text": [
      "adj\n",
      "[('old', 276.72010190039873, '1/87', '670/33270', 1, 0.9798917944093778),\n",
      " ('surly', 162.33497600474948, '2/87', '7/652', 2, 0.9794090684718991),\n",
      " ('full-blooded', 51.90150745264964, '3/87', '2/183', 3, 0.971672633628541),\n",
      " ('blind_as_negro', 23.52840633913273, '6/87', '1/1', 4, 0.9425287356321839),\n",
      " ('long_on_errand', 23.52840633913273, '6/87', '1/1', 5, 0.9425287356321839),\n",
      " ('thick-lipped', 29.266646675692073, '4/87', '4/35', 6, 0.8827586206896552),\n",
      " ('NEG_real', 21.100723623696467, '10/87', '6/297', 7, 0.8814582607686056),\n",
      " ('hideous', 22.48589895409532, '9/87', '250/2679', 8, 0.8236475267405491),\n",
      " ('poor', 28.99200202897191, '5/87', '2791/20374', 9, 0.8233798090647423),\n",
      " ('aged', 23.136929231201066, '8/87', '199/1890', 10, 0.8232074438970991),\n",
      " ('shriveled', 14.760171735489507, '15/87', '3/28', 11, 0.7791461412151067),\n",
      " ('unprotected', 18.43107686676376, '14/87', '29/281', 12, 0.7658199370065857),\n",
      " ('deformed', 19.97101309140271, '11/87', '31/210', 13, 0.7586206896551725),\n",
      " ('tall', 19.13997085916344, '12/87', '519/3660', 14, 0.7499277683562591),\n",
      " ('missing', 14.70935634104535, '16/87', '102/735', 15, 0.7138634764250528),\n",
      " ('unattractive', 9.141104459593407, '24/87', '47/264', 16, 0.6074538488331591),\n",
      " ('young', 12.629421855323017, '17/87', '4656/17128', 17, 0.5942967621747277),\n",
      " ('gigantic', 10.382233758689836, '21/87', '510/2197', 18, 0.591695049152711),\n",
      " ('NEG_lovely', 11.424719251181614, '19/87', '30/108', 19, 0.5801404853128991),\n",
      " ('turbaned', 12.541321002247514, '18/87', '14/44', 20, 0.5668756530825497),\n",
      " ('ugly', 7.670074165507685, '26/87', '695/2687', 21, 0.5285816340062199),\n",
      " ('elderly', 8.872149123635609, '25/87', '339/1186', 22, 0.5177647264057684),\n",
      " ('attired', 11.032053541053756, '20/87', '32/88', 23, 0.506269592476489),\n",
      " ('dwarfish', 10.217369760422116, '22/87', '51/140', 24, 0.4876847290640393),\n",
      " ('huge', 9.57258027914213, '23/87', '1640/4560', 25, 0.4785869126840089),\n",
      " ('insistent', 7.617488267747831, '28/87', '166/510', 26, 0.4665314401622719),\n",
      " ('veiled', 7.445192149487411, '29/87', '121/380', 27, 0.46400483968542044),\n",
      " ('bustling', 7.2274691426318896, '30/87', '148/450', 28, 0.44888888888888895),\n",
      " ('inky', 7.659193219369627, '27/87', '118/308', 29, 0.4348037020450813),\n",
      " ('well_than_girl', 18.52444419341603, '13/87', '3/4', 30, 0.43103448275862066),\n",
      " ('lithe', 7.062382390857238, '32/87', '105/286', 31, 0.4096133751306165),\n",
      " ('ancient', 7.211467418586835, '31/87', '2390/5895', 32, 0.3896580971600713),\n",
      " ('middle-aged', 6.331725321120757, '38/87', '140/409', 33, 0.3793946547508642),\n",
      " ('shiny', 6.729188064840855, '34/87', '204/495', 34, 0.3661442006269593),\n",
      " ('incapable', 6.604543755478517, '35/87', '348/855', 35, 0.3619546951670363),\n",
      " ('sulky', 6.477956078670104, '37/87', '277/717', 36, 0.36055403260712743),\n",
      " ('competent', 6.082346173294354, '40/87', '248/578', 37, 0.31595275026846437),\n",
      " ('penniless', 6.853440011371276, '33/87', '238/469', 38, 0.3127221037668799),\n",
      " ('devilish', 5.210959651012672, '46/87', '394/1106', 39, 0.3112178088171104),\n",
      " ('conspicuous',\n",
      "  4.969021281620371,\n",
      "  '48/87',\n",
      "  '397/1214',\n",
      "  40,\n",
      "  0.30979567876687686),\n",
      " ('faithful', 6.566498466068879, '36/87', '1593/3246', 41, 0.3045587495839264),\n",
      " ('gaunt', 5.500411379398429, '42/87', '295/693', 42, 0.30442354580285613),\n",
      " ('hysterical', 5.428051224822411, '43/87', '307/697', 43, 0.2901597981497056),\n",
      " ('crazy', 5.287722019464127, '44/87', '552/1283', 44, 0.28854785389846),\n",
      " ('hoary', 6.241573634215456, '39/87', '319/649', 45, 0.2872500575598179),\n",
      " ('cynical', 5.222903510788456, '45/87', '445/1025', 46, 0.280156994673395),\n",
      " ('sable', 5.8906924295806675, '41/87', '381/780', 47, 0.2770409666961391),\n",
      " ('clumsy', 4.616580534886452, '49/87', '730/1644', 48, 0.24949660206393157),\n",
      " ('probable', 4.279161935803131, '52/87', '590/1381', 49, 0.2373092961122625),\n",
      " ('frantic', 4.428716429436463, '50/87', '604/1308', 50, 0.23542128018559527)]\n",
      "agent\n",
      "[('grin', 18.992133992825984, '1/120', '122/1823', 1, 0.9336258913878223),\n",
      " ('snatch', 12.088076821833965, '2/120', '118/1790', 2, 0.9268482309124768),\n",
      " ('disappear', 10.52066333568655, '4/120', '603/5637', 3, 0.8708754656732305),\n",
      " ('vanish', 11.56442626673379, '3/120', '560/4113', 4, 0.849687981197828),\n",
      " ('remove', 8.890749682686874, '8/120', '441/3169', 5, 0.810920900389187),\n",
      " ('supply', 9.214582269545645, '7/120', '477/2973', 6, 0.7978977463841238),\n",
      " ('wave', 8.185836568532977, '10/120', '618/3201', 7, 0.7467041549515777),\n",
      " ('interrupt', 6.790204877150245, '18/120', '1005/4557', 8, 0.6692250018286885),\n",
      " ('cry', 7.424877905519679, '14/120', '4278/15617', 9, 0.6474675033617212),\n",
      " ('covet', 8.63767949168141, '9/120', '76/229', 10, 0.6276564774381368),\n",
      " ('enjoin', 7.708024486231807, '11/120', '135/420', 11, 0.6242063492063492),\n",
      " ('shake', 5.452448571100831, '25/120', '2380/10491', 12, 0.6185873605947956),\n",
      " ('inquire', 6.348288058943581, '21/120', '1231/4459', 13, 0.6034611646856546),\n",
      " ('cultivate', 7.56729402892779, '13/120', '144/428', 14, 0.5992990654205608),\n",
      " ('chat', 6.9193182821254595, '17/120', '196/599', 15, 0.5845297718419589),\n",
      " ('redeem', 7.015239072807162, '16/120', '178/527', 16, 0.5811195445920303),\n",
      " ('poke', 7.076860626231792, '15/120', '208/582', 17, 0.5691580756013744),\n",
      " ('open', 4.737275110557675, '32/120', '2152/9176', 18, 0.5678082316187155),\n",
      " ('leave', 4.689774690195918, '35/120', '3863/17760', 19, 0.5608239489489489),\n",
      " ('limp', 7.640712319884187, '12/120', '169/439', 20, 0.5607251328777524),\n",
      " ('bore', 6.50948875972972, '20/120', '241/704', 21, 0.5547348484848486),\n",
      " ('silence', 6.341102144357137, '22/120', '305/841', 22, 0.5267835909631392),\n",
      " ('waddle', 9.562101599836751, '6/120', '85/185', 23, 0.5231981981981982),\n",
      " ('motion', 6.708110566571122, '19/120', '300/739', 24, 0.5060893098782138),\n",
      " ('officiate', 10.099517919700702, '5/120', '72/148', 25, 0.502927927927928),\n",
      " ('whisper', 4.81568506808253, '31/120', '2074/6242', 26, 0.5009211791092598),\n",
      " ('unite', 5.335927779400663, '26/120', '381/1034', 27, 0.500725338491296),\n",
      " ('raise', 4.345917711034417, '39/120', '2254/7927', 28, 0.4891173626003953),\n",
      " ('assail', 5.553910295180685, '24/120', '328/808', 29, 0.4811984323432343),\n",
      " ('account', 5.2006560482113855, '27/120', '495/1266', 30, 0.4776724591890468),\n",
      " ('wail', 6.129653289237467, '23/120', '274/647', 31, 0.472076249356002),\n",
      " ('wipe', 4.87480311224499, '30/120', '643/1659', 32, 0.46487341772151897),\n",
      " ('replace', 5.063012807579071, '28/120', '659/1641', 33, 0.46424436319317497),\n",
      " ('reappear', 5.044896542625793, '29/120', '605/1515', 34, 0.461012101210121),\n",
      " ('watch', 4.19209901150316, '40/120', '2390/7354', 35, 0.45572137612183844),\n",
      " ('shift', 4.695075453244499, '34/120', '536/1400', 36, 0.4479464285714286),\n",
      " ('turn', 3.419103348162025, '47/120', '5601/18697', 37, 0.4319668039435917),\n",
      " ('glare', 4.705070189622347, '33/120', '522/1238', 38, 0.42471728594507274),\n",
      " ('start', 3.5165415289229713, '45/120', '2988/8696', 39, 0.4157888684452622),\n",
      " ('lock', 4.350508109622751, '38/120', '635/1589', 40, 0.41569645479337103),\n",
      " ('say', 4.6646075416356325, '36/120', '22174/50150', 41, 0.3951553672316384),\n",
      " ('fetch', 4.383359335159184, '37/120', '847/1906', 42, 0.38929695697796435),\n",
      " ('shudder', 4.150053742050659, '41/120', '864/1980', 43, 0.37609427609427615),\n",
      " ('decline', 3.5702874522685306, '44/120', '1080/2501', 44, 0.3648340663734506),\n",
      " ('confess', 3.701052382195485, '42/120', '1143/2523', 45, 0.36034813053243486),\n",
      " ('NEG_think',\n",
      "  3.323359707108466,\n",
      "  '48/120',\n",
      "  '1176/2593',\n",
      "  46,\n",
      "  0.33267129451086264),\n",
      " ('appear', 2.7806326794670895, '55/120', '6155/15385', 47, 0.33),\n",
      " ('kneel', 3.4886739663779736, '46/120', '1220/2384', 48, 0.30542156040268453),\n",
      " ('obey', 2.9630489100527484, '51/120', '1453/2986', 49, 0.2996762670238892),\n",
      " ('await', 2.960712033935124, '52/120', '1433/2965', 50, 0.29729342327150077)]\n",
      "patient\n",
      "[('mistrust', 14.868784027121364, '1/14', '9/95', 1, 0.9157894736842105),\n",
      " ('marry', 14.697586720110849, '2/14', '449/3427', 2, 0.8071824586268708),\n",
      " ('reinforce', 12.73522046333801, '3/14', '41/249', 3, 0.7194492254733219),\n",
      " ('seduce', 12.644481583453853, '4/14', '33/215', 4, 0.6687707641196013),\n",
      " ('elapse', 10.887736929285893, '5/14', '60/422', 5, 0.6144211238997969),\n",
      " ('carry', 10.400883102905937, '6/14', '918/6354', 6, 0.5500809388911372),\n",
      " ('whisper', 6.853366252616979, '7/14', '670/2113', 7, 0.3905077411939693),\n",
      " ('expect', 6.336520516459132, '8/14', '920/2985', 8, 0.3460636515912898),\n",
      " ('offer', 5.452520064049168, '9/14', '917/2686', 9, 0.28241676417402406),\n",
      " ('drive', 4.709970931406133, '10/14', '2062/5003', 10, 0.2100168470346363),\n",
      " ('come', 3.2757544075138867, '11/14', '8139/18858', 11, 0.16241685983970425),\n",
      " ('get', 2.763609684421681, '12/14', '4260/8235', 12, 0.1034608378870674),\n",
      " ('find', 2.3227899582125247, '13/14', '4954/9768', 13, 0.07041944541944543),\n",
      " ('look', 2.0405215789796785, '14/14', '5512/10093', 14, 0.03242700032554385)]\n"
     ]
    }
   ],
   "source": [
    "noun = \"negress\"\n",
    "for noun2i, j2feature, L, F, feature_type in [(noun2i_adj, j2feature_adj, L_adj, F_adj, \"adj\"), (noun2i_agent, j2feature_agent, L_agent, F_agent, \"agent\"), (noun2i_patient, j2feature_patient, L_patient, F_patient, \"patient\")]:\n",
    "    print(feature_type)\n",
    "    if noun in noun2i:\n",
    "        pp([(j2feature[j], llr, f'{Rr}/{Nc}', f'{Rc}/{Nr}', rank, mutual_affinity) for rank, (j, llr, mutual_affinity, Rr, Nc, Rc, Nr) in enumerate(affinities_for_row(noun2i[noun], L), start=1)][:50])\n",
    "        "
   ]
  },
  {
   "cell_type": "markdown",
   "id": "258dd031",
   "metadata": {},
   "source": [
    "### relate the original paragraph to the document topic"
   ]
  },
  {
   "cell_type": "code",
   "execution_count": null,
   "id": "43716219",
   "metadata": {
    "scrolled": true
   },
   "outputs": [],
   "source": [
    "# build document (cleaned paragraph fed to top2vec) 2 topic\n",
    "document2topic = {}\n",
    "dict(zip(*model.get_topic_sizes()[::-1]))\n",
    "topic2size = dict(zip(*model.get_topic_sizes()[::-1]))\n",
    "for i in range(model.get_num_topics()):\n",
    "    for doc, score, id_ in list(zip(*model.search_documents_by_topic(topic_num=i, num_docs=topic2size[i]))):\n",
    "        document2topic[doc] = i"
   ]
  },
  {
   "cell_type": "code",
   "execution_count": null,
   "id": "b82a3cf7",
   "metadata": {
    "scrolled": true
   },
   "outputs": [],
   "source": [
    "# build original paragraph (i.e, pre-cleaning version) to topic\n",
    "df = pd.read_csv('/Users/ryanbrate/surfdrive/Data/LREC_2023/top2vecs/PR.csv')"
   ]
  },
  {
   "cell_type": "code",
   "execution_count": null,
   "id": "bef3dcc1",
   "metadata": {
    "scrolled": true
   },
   "outputs": [],
   "source": [
    "paragraph2topic = {}\n",
    "for original, document in tqdm(zip(df['text'].values, df['clean'].values)):\n",
    "    try:\n",
    "        topic = document2topic[document]\n",
    "        paragraph2topic[original] = topic\n",
    "    except:\n",
    "        pass"
   ]
  },
  {
   "cell_type": "markdown",
   "id": "63b27d0f",
   "metadata": {},
   "source": [
    "# American Literature"
   ]
  },
  {
   "cell_type": "code",
   "execution_count": 173,
   "id": "d40f02b0",
   "metadata": {
    "scrolled": true
   },
   "outputs": [
    {
     "name": "stdout",
     "output_type": "stream",
     "text": [
      "(166863, 232349)\n",
      "22592953\n"
     ]
    }
   ],
   "source": [
    "# load noun,adj pair info\n",
    "L_adj = load_npz(pathlib.Path('LLR/llr_scores/PS/adj/llr_profiles.npz'))\n",
    "F_adj = load_npz(pathlib.Path('LLR/llr_scores/PS/adj/freq_profiles.npz'))\n",
    "print(L_adj.shape)\n",
    "print(F_adj.sum())\n",
    "\n",
    "with open('LLR/llr_scores/PS/adj/feature2i.json', \"r\", encoding='utf-8') as f:\n",
    "    feature2j_adj =  json.load(f)\n",
    "j2feature_adj = {j:feature for feature, j in feature2j_adj.items()}\n",
    "\n",
    "          \n",
    "with open('LLR/llr_scores/PS/adj/noun2i.json', \"r\", encoding='utf-8') as f:\n",
    "    noun2i_adj =  json.load(f)\n",
    "i2noun_adj = {i: noun for noun, i in noun2i_adj.items()}"
   ]
  },
  {
   "cell_type": "code",
   "execution_count": 150,
   "id": "9f362076",
   "metadata": {
    "scrolled": true
   },
   "outputs": [
    {
     "name": "stdout",
     "output_type": "stream",
     "text": [
      "(180325, 29058)\n",
      "14266666\n"
     ]
    }
   ],
   "source": [
    "# load agent, verb info\n",
    "L_agent = load_npz(pathlib.Path('LLR/llr_scores/PS/agent/llr_profiles.npz'))\n",
    "F_agent = load_npz(pathlib.Path('LLR/llr_scores/PS/agent/freq_profiles.npz'))\n",
    "print(L_agent.shape)\n",
    "print(F_agent.sum())\n",
    "\n",
    "with open('LLR/llr_scores/PS/agent/feature2i.json', \"r\", encoding='utf-8') as f:\n",
    "    feature2j_agent =  json.load(f)\n",
    "j2feature_agent = {j:feature for feature, j in feature2j_agent.items()}\n",
    "\n",
    "          \n",
    "with open('LLR/llr_scores/PS/agent/noun2i.json', \"r\", encoding='utf-8') as f:\n",
    "    noun2i_agent =  json.load(f)\n",
    "i2noun_agent = {i: noun for noun, i in noun2i_agent.items()}"
   ]
  },
  {
   "cell_type": "code",
   "execution_count": 151,
   "id": "3dc254db",
   "metadata": {
    "scrolled": true
   },
   "outputs": [
    {
     "name": "stdout",
     "output_type": "stream",
     "text": [
      "(116132, 22389)\n",
      "7725577\n"
     ]
    }
   ],
   "source": [
    "# load patient, verb info\n",
    "L_patient = load_npz(pathlib.Path('LLR/llr_scores/PS/patient/llr_profiles.npz'))\n",
    "F_patient = load_npz(pathlib.Path('LLR/llr_scores/PS/patient/freq_profiles.npz'))\n",
    "print(L_patient.shape)\n",
    "print(F_patient.sum())\n",
    "\n",
    "with open('LLR/llr_scores/PS/patient/feature2i.json', \"r\", encoding='utf-8') as f:\n",
    "    feature2j_patient =  json.load(f)\n",
    "j2feature_patient = {j:feature for feature, j in feature2j_patient.items()}\n",
    "\n",
    "          \n",
    "with open('LLR/llr_scores/PS/patient/noun2i.json', \"r\", encoding='utf-8') as f:\n",
    "    noun2i_patient =  json.load(f)\n",
    "i2noun_patient = {i: noun for noun, i in noun2i_patient.items()}"
   ]
  },
  {
   "cell_type": "markdown",
   "id": "313f1191",
   "metadata": {},
   "source": [
    "## quick feature -> noun"
   ]
  },
  {
   "cell_type": "code",
   "execution_count": 70,
   "id": "83b3c9b3",
   "metadata": {},
   "outputs": [
    {
     "data": {
      "text/plain": [
       "(166863, 1)"
      ]
     },
     "execution_count": 70,
     "metadata": {},
     "output_type": "execute_result"
    }
   ],
   "source": [
    "(L_adj[:, feature2j_adj['savage']] > 0).shape"
   ]
  },
  {
   "cell_type": "code",
   "execution_count": 172,
   "id": "8100ef2f",
   "metadata": {
    "scrolled": true
   },
   "outputs": [
    {
     "name": "stdout",
     "output_type": "stream",
     "text": [
      "where feature is a adj\n",
      "[('gallinipper', 51.63140007185507, '1/1', '2/41', 1, 0.975609756097561),\n",
      " ('nigger', 69.51608022407709, '19/609', '1/41', 2, 0.9704433497536946),\n",
      " ('hiller', 25.797841986394133, '1/1', '4/41', 3, 0.926829268292683),\n",
      " ('gad', 35.85428607403742, '3/20', '3/41', 4, 0.8560975609756097),\n",
      " ('thief', 18.798363545157372, '69/700', '6/41', 5, 0.7927526132404181),\n",
      " ('head', 19.662037242644146, '687/3914', '5/41', 6, 0.7442700998292558),\n",
      " ('Slim', 14.997050034807899, '10/52', '9/41', 7, 0.6655722326454033),\n",
      " ('feller', 15.320459501776213, '164/796', '8/41', 8, 0.6594558156636843),\n",
      " ('galoot', 13.629633022768303, '17/83', '11/41', 9, 0.6103438142815163),\n",
      " ('niggah', 14.972664144525197, '10/40', '10/41', 10, 0.6048780487804879),\n",
      " ('McCoy', 17.4841060802014, '5/13', '7/41', 11, 0.5909943714821764),\n",
      " ('darkey', 11.927284297322103, '16/117', '15/41', 12, 0.574108818011257),\n",
      " ('cayuse', 12.46988052696156, '28/113', '12/41', 13, 0.5568745952946255),\n",
      " ('whelp', 12.375177460299255, '33/112', '13/41', 14, 0.5052264808362369),\n",
      " ('hussy', 12.132837797418688, '46/133', '14/41', 15, 0.4518613607188703),\n",
      " ('skunk', 11.624202762463938, '45/150', '16/41', 16, 0.448130081300813),\n",
      " ('killer', 10.927032943348195, '67/285', '19/41', 17, 0.43106546854942235),\n",
      " ('puncher', 10.703432052901917, '57/310', '21/41', 18, 0.419669551534225),\n",
      " ('thet', 11.097166938008058, '102/312', '17/41', 19, 0.4123671044402752),\n",
      " ('ez', 11.018638330335534, '73/203', '18/41', 20, 0.3777484080259522),\n",
      " ('folk', 10.914279122771632, '628/1901', '20/41', 21, 0.35960534250266224),\n",
      " ('scamp', 9.896614439526047, '63/259', '23/41', 22, 0.35248140126188904),\n",
      " ('carcass', 10.32453667360005, '90/286', '22/41', 23, 0.3360054579566774),\n",
      " ('owl', 9.596403961928445, '78/297', '24/41', 24, 0.32520325203252026),\n",
      " ('bein', 9.114145993761895, '160/517', '25/41', 25, 0.28711610133509463),\n",
      " ('idiot', 8.48298096820804, '185/593', '26/41', 26, 0.269156418377),\n",
      " ('sinner', 8.473651862870156, '138/470', '27/41', 27, 0.2592112091333679),\n",
      " ('bunch', 7.227839324334354, '185/694', '29/41', 28, 0.2330076614887186),\n",
      " ('rascal', 7.582497167184783, '214/670', '28/41', 29, 0.2329086275937386),\n",
      " ('kid', 7.187695613172309, '247/711', '30/41', 30, 0.1914171040444582),\n",
      " ('set', 5.664159492776889, '385/1295', '31/41', 31, 0.1887371692249741),\n",
      " ('color', 4.369977123223407, '767/1590', '32/41', 32, 0.12639975456358338),\n",
      " ('brother', 4.015354434701294, '926/1966', '33/41', 33, 0.11623204227973102),\n",
      " ('country', 3.09003620013209, '1445/2288', '34/41', 34, 0.07197680368412074),\n",
      " ('soul', 2.8916699544217863, '2091/3341', '35/41', 35, 0.0639285740358152),\n",
      " ('boy', 1.6705782762014678, '3110/4120', '36/41', 36, 0.0359104901728629),\n",
      " ('thing', 1.263499161732625, '6044/7700', '37/41', 37, 0.026243268926195752),\n",
      " ('people', 1.162940296530678, '3951/4986', '38/41', 38, 0.020271394049680563),\n",
      " ('man', 1.1425796908531538, '11241/13371', '39/41', 39, 0.011661568264773955),\n",
      " ('hand', 0.6533535157989263, '4008/4701', '40/41', 40, 0.007201373864408719),\n",
      " ('woman', 0.5192428167104026, '5878/6744', '41/41', 41, 0.0031355785088100015)]\n",
      "where feature is a agent\n",
      "where feature is a patient\n"
     ]
    }
   ],
   "source": [
    "feature = \"onery\"\n",
    "for feature2j, i2noun, L, F, feature_type in [(feature2j_adj, i2noun_adj, L_adj, F_adj, \"adj\"), (feature2j_agent, i2noun_agent, L_agent, F_agent, \"agent\"), (feature2j_patient, i2noun_patient, L_patient, F_patient, \"patient\")]:\n",
    "    print(f\"where feature is a {feature_type}\")\n",
    "    if feature in feature2j:\n",
    "        pp([(i2noun[i], llr, f'{Rr}/{Nc}', f'{Rc}/{Nr}', rank, mutual_affinity) for rank, (i, llr, mutual_affinity, Rr, Nc, Rc, Nr) in enumerate(affinities_for_column(feature2j[feature], L), start=1)][:100])\n",
    "            "
   ]
  },
  {
   "cell_type": "markdown",
   "id": "a1d7c18f",
   "metadata": {},
   "source": [
    "## quick noun -> feature"
   ]
  },
  {
   "cell_type": "code",
   "execution_count": 170,
   "id": "6804cb30",
   "metadata": {
    "scrolled": true
   },
   "outputs": [
    {
     "name": "stdout",
     "output_type": "stream",
     "text": [
      "adj\n",
      "[('old', 3166.254305335693, '1/872', '23/28879', 1, 0.9992382007687247),\n",
      " ('aged', 298.08812963202945, '4/872', '10/1612', 2, 0.9909957144808432),\n",
      " ('free', 519.7414618574549, '2/872', '33/4059', 3, 0.9909785367661851),\n",
      " ('full-blooded', 157.58774953667125, '9/872', '1/166', 4, 0.9908256880733946),\n",
      " ('ignorant', 245.19641768129077, '6/872', '6/1325', 5, 0.9905141076683399),\n",
      " ('jamaican', 122.47426499364894, '14/872', '1/24', 6, 0.9850917431192661),\n",
      " ('poor', 256.6365706899669, '5/872', '142/12979', 7, 0.9845989746315679),\n",
      " ('giant', 208.1344996400876, '7/872', '20/2147', 8, 0.9843305999837623),\n",
      " ('runaway', 366.30436805994395, '3/872', '6/353', 9, 0.9835746030095901),\n",
      " ('gigantic', 136.35241262504132, '11/872', '18/2085', 10, 0.9804721360526257),\n",
      " ('faithful', 170.66775751224486, '8/872', '36/2367', 11, 0.9773045274667349),\n",
      " ('burly', 137.83792073684162, '10/872', '9/573', 12, 0.975861392638135),\n",
      " ('frightened',\n",
      "  132.79773896551342,\n",
      "  '12/872',\n",
      "  '25/1936',\n",
      "  13,\n",
      "  0.9751450072029723),\n",
      " ('gray-headed', 62.058901468817396, '27/872', '1/14', 14, 0.9701834862385321),\n",
      " ('likely', 69.85965446490445, '22/872', '18/2823', 15, 0.970040493066456),\n",
      " ('revolted', 50.88861545040129, '37/872', '1/10', 16, 0.9587155963302753),\n",
      " ('terrified', 67.93955063915928, '23/872', '16/906', 17, 0.9586320554104137),\n",
      " ('superstitious',\n",
      "  74.56236427028489,\n",
      "  '19/872',\n",
      "  '15/644',\n",
      "  18,\n",
      "  0.9580674112485041),\n",
      " ('weak_in_intellect',\n",
      "  50.72630631688263,\n",
      "  '38/872',\n",
      "  '1/1',\n",
      "  19,\n",
      "  0.9575688073394495),\n",
      " ('weak_than_lord', 50.72630631688263, '38/872', '1/1', 20, 0.9575688073394495),\n",
      " ('NEG_secure_in_right',\n",
      "  50.72630631688263,\n",
      "  '38/872',\n",
      "  '1/1',\n",
      "  21,\n",
      "  0.9575688073394495),\n",
      " ('african', 94.53339734389738, '15/872', '21/695', 22, 0.9556299914197083),\n",
      " ('white-headed', 48.54898085783225, '43/872', '1/44', 23, 0.9518348623853211),\n",
      " ('southern', 131.66143628463033, '13/872', '73/1963', 24, 0.9500647296078367),\n",
      " ('illiterate', 46.22464928512272, '44/872', '3/251', 25, 0.9431128696224278),\n",
      " ('woolly-haired', 42.40981767795698, '51/872', '1/4', 26, 0.9426605504587156),\n",
      " ('intelligent',\n",
      "  57.28140357800294,\n",
      "  '30/872',\n",
      "  '40/1422',\n",
      "  27,\n",
      "  0.9402290674718383),\n",
      " ('headed', 45.304000969241315, '45/872', '14/791', 28, 0.9339356754311695),\n",
      " ('NEG_secure_as_citizen',\n",
      "  33.817121949588724,\n",
      "  '61/872',\n",
      "  '1/1',\n",
      "  29,\n",
      "  0.9311926605504587),\n",
      " ('european_in_embryo',\n",
      "  33.817121949588724,\n",
      "  '61/872',\n",
      "  '1/1',\n",
      "  30,\n",
      "  0.9311926605504587),\n",
      " ('gray-haired', 51.87336026062985, '35/872', '11/322', 31, 0.9311641688985127),\n",
      " ('keen-sighted', 31.446913781578132, '64/872', '1/20', 32, 0.9277522935779816),\n",
      " ('tall', 63.97045648848871, '26/872', '170/3608', 33, 0.9258328205415081),\n",
      " ('own', 81.91048996569589, '17/872', '778/13479', 34, 0.9250638608069229),\n",
      " ('ragged', 56.06409130572865, '31/872', '68/1486', 35, 0.9220600219788361),\n",
      " ('flat-footed', 28.049568654967516, '69/872', '1/42', 36, 0.9220183486238532),\n",
      " ('naked', 53.99258115835255, '32/872', '68/1398', 37, 0.9182277106219894),\n",
      " ('excited', 44.07203264263808, '48/872', '67/2232', 38, 0.9181248150340338),\n",
      " ('last', 71.05940080154687, '21/872', '697/10319', 39, 0.9111628055844256),\n",
      " ('sleepy', 41.12258584769734, '53/872', '40/1238', 40, 0.9107431340872375),\n",
      " ('lazy', 39.495041953370674, '55/872', '56/1661', 41, 0.9070113615651012),\n",
      " ('witted', 37.27471538210011, '57/872', '14/395', 42, 0.904981999767739),\n",
      " ('white-haired',\n",
      "  44.13146817433517,\n",
      "  '47/872',\n",
      "  '16/317',\n",
      "  43,\n",
      "  0.9024252597458976),\n",
      " ('grizzled', 49.3966622441294, '42/872', '19/334', 44, 0.9016233587870132),\n",
      " ('huge', 58.3995668189018, '29/872', '290/4213', 45, 0.9014953714692618),\n",
      " ('first', 60.39983767224476, '28/872', '841/11880', 46, 0.9005189509776667),\n",
      " ('young', 79.17928356165066, '18/872', '1129/13316', 47, 0.8974459228189307),\n",
      " ('stalwart', 41.40780968398758, '52/872', '27/547', 48, 0.8967617362427251),\n",
      " ('black', 73.15427542570978, '20/872', '541/6234', 49, 0.8934766580427546),\n",
      " ('good', 64.13315639644861, '24/872', '1340/15910', 50, 0.8916827885064498)]\n",
      "agent\n",
      "[('obey', 118.27823388275283, '1/1068', '4/2649', 1, 0.9988674971687429),\n",
      " ('shuffle', 47.165216840188805, '5/1068', '5/892', 2, 0.9917871718647654),\n",
      " ('grin', 62.38761577749392, '3/1068', '37/3835', 3, 0.9887576969466134),\n",
      " ('row', 55.51441533948673, '4/1068', '9/541', 4, 0.9824451182786766),\n",
      " ('carry', 32.84636309510097, '8/1068', '99/7848', 5, 0.9810402803071084),\n",
      " ('reply', 69.22298260824755, '2/1068', '293/12928', 6, 0.9764981852820114),\n",
      " ('bow', 30.095509929698892, '11/1068', '71/4709', 7, 0.9759107390978944),\n",
      " ('dodge', 22.954280132420536, '16/1068', '13/804', 8, 0.9712393090726145),\n",
      " ('stand', 30.921013822313398, '10/1068', '435/21046', 9, 0.9711253145864543),\n",
      " ('drop', 24.934839826251846, '14/1068', '186/9115', 10, 0.9677785516321822),\n",
      " ('sing', 44.88534372471622, '6/1068', '120/4127', 11, 0.9666188405757644),\n",
      " ('guly\"--gaspe', 15.578239574785336, '37/1068', '1/1', 12, 0.9662921348314607),\n",
      " ('colonise', 15.578239574785336, '37/1068', '1/1', 13, 0.9662921348314607),\n",
      " ('spiritual', 15.578239574785336, '37/1068', '1/1', 14, 0.9662921348314607),\n",
      " ('singe', 40.46803396732139, '7/1068', '39/1288', 15, 0.9650446646660619),\n",
      " ('commit', 27.70025087909744, '13/1068', '29/1164', 16, 0.9649793428317696),\n",
      " ('respond', 21.161806979507674, '20/1068', '133/4565', 17, 0.9538084923965525),\n",
      " ('exclaim', 31.448689096374437, '9/1068', '298/7457', 18, 0.9529793537881859),\n",
      " ('kneel', 17.5747929555655, '27/1068', '67/2428', 19, 0.9491343193331236),\n",
      " ('wail', 21.320993224951962, '18/1068', '39/1023', 20, 0.9475280166653853),\n",
      " ('improve', 22.20269260869827, '17/1068', '52/1215', 21, 0.9436722615249457),\n",
      " ('point', 17.268703955982346, '30/1068', '171/5547', 22, 0.9430314256989472),\n",
      " ('approach', 17.46447724106838, '28/1068', '168/4981', 23, 0.9420392999014231),\n",
      " ('grow', 28.81892370292917, '12/1068', '591/10581', 24, 0.934514359885414),\n",
      " ('mutter', 17.583726475859294, '26/1068', '168/3649', 25, 0.931897097660536),\n",
      " ('work', 16.898302805493586, '33/1068', '311/7665', 26, 0.93080567099345),\n",
      " ('howl', 21.305281322973315, '19/1068', '48/872', 27, 0.9301553963508916),\n",
      " ('ask', 24.47998144943267, '15/1068', '889/15332', 28, 0.9297325317003627),\n",
      " ('fish', 17.774057375321718, '25/1068', '27/509', 29, 0.9275954173197059),\n",
      " ('send', 16.031184994382784, '36/1068', '444/10805', 30, 0.9275725449620181),\n",
      " ('run', 17.193221372086555, '31/1068', '547/11915', 31, 0.9273727291158818),\n",
      " ('murder', 17.775418008674023, '24/1068', '41/754', 32, 0.9265564927130212),\n",
      " ('place', 14.085957774019334, '50/1068', '164/4890', 33, 0.9223158551810237),\n",
      " ('seem', 19.627299612620845, '21/1068', '1062/17543', 34, 0.9219260283079713),\n",
      " ('believe', 15.143871194624808, '43/1068', '193/4664', 35, 0.9211266791296471),\n",
      " ('come', 17.430014319717884, '29/1068', '2201/38617', 36, 0.9183066315615205),\n",
      " ('thrash', 16.685319287225866, '34/1068', '20/297', 37, 0.9071047554193621),\n",
      " ('return', 14.745303173083812, '47/1068', '686/12657', 38, 0.9051396112763762),\n",
      " ('know', 14.444804653758183, '49/1068', '1031/19202', 39, 0.9038267315319449),\n",
      " ('mutilate', 19.134549423987664, '22/1068', '7/71', 40, 0.897491691723374),\n",
      " ('rummage', 13.65743448631929, '52/1068', '16/236', 41, 0.8917230051418777),\n",
      " ('trudge', 13.48000201961986, '53/1068', '31/470', 42, 0.8905888915451431),\n",
      " ('sob', 14.82809453488153, '44/1068', '99/1279', 43, 0.8862004492039368),\n",
      " ('hiccough', 15.206612613086236, '42/1068', '4/38', 44, 0.8856938695052237),\n",
      " ('congregate',\n",
      "  17.161182812968036,\n",
      "  '32/1068',\n",
      "  '21/225',\n",
      "  45,\n",
      "  0.8846650020807324),\n",
      " ('do', 11.476443016668782, '68/1068', '1498/24526', 46, 0.8800577679393052),\n",
      " ('appear', 11.191726157907397, '70/1068', '753/12541', 47, 0.8793039728566706),\n",
      " ('rise', 12.44114507152699, '58/1068', '954/13237', 48, 0.8784764870006019),\n",
      " ('gather', 11.887619808025192, '63/1068', '336/4700', 49, 0.8748087497011714),\n",
      " ('utter', 10.925739864076604, '72/1068', '195/3045', 50, 0.8740450668191854)]\n",
      "patient\n",
      "[('lynch', 102.14933290107524, '1/445', '1/52', 1, 1.0),\n",
      " ('NEG_mortgage', 27.167880980363464, '7/445', '1/6', 2, 0.9865168539325843),\n",
      " ('disfranchise', 22.988741312009836, '10/445', '1/14', 3, 0.9797752808988764),\n",
      " ('allow', 32.00605838066258, '4/445', '43/2317', 4, 0.9752537424895619),\n",
      " ('sell', 63.76088172545133, '2/445', '44/1870', 5, 0.9748098299585412),\n",
      " ('teach', 47.45795134914806, '3/445', '44/1840', 6, 0.9722410845139229),\n",
      " ('free', 30.683299590127717, '5/445', '19/641', 7, 0.963182527301092),\n",
      " ('deem', 27.948656589484017, '6/445', '17/518', 8, 0.958223070582621),\n",
      " ('slaves--\"while', 17.770201026556922, '20/445', '1/1', 9, 0.9573033707865168),\n",
      " ('advertise', 23.71291818026839, '9/445', '11/363', 10, 0.9549695112514316),\n",
      " ('permit', 21.17548923823051, '13/445', '55/2085', 11, 0.9478328348557109),\n",
      " ('assail', 19.118961915795808, '17/445', '14/486', 12, 0.9382577333888196),\n",
      " ('call', 21.06741753121605, '14/445', '310/8146', 13, 0.9339619362367138),\n",
      " ('treat', 22.97227815356746, '11/445', '77/1604', 14, 0.9312112975986998),\n",
      " ('emancipate', 26.274515309844446, '8/445', '5/65', 15, 0.9236992221261884),\n",
      " ('encourage', 17.837306494144286, '19/445', '36/714', 16, 0.9125137695527649),\n",
      " ('NEG_count', 18.552646955005912, '18/445', '15/262', 17, 0.9104039797581267),\n",
      " ('deal', 17.096098045927647, '22/445', '51/1102', 18, 0.9095780909072371),\n",
      " ('employ', 21.469992892685696, '12/445', '80/1159', 19, 0.9088035986078661),\n",
      " ('arrest', 19.410867493403202, '16/445', '81/1191', 20, 0.9013858621307749),\n",
      " ('stun', 16.601840743865978, '23/445', '25/350', 21, 0.8853804173354735),\n",
      " ('convict', 17.31785635329652, '21/445', '25/276', 22, 0.8720078163165609),\n",
      " ('send', 16.593198541959282, '24/445', '600/7408', 23, 0.8716352804135221),\n",
      " ('kidnap', 20.513528708866033, '15/445', '20/162', 24, 0.8549452073796644),\n",
      " ('hypnotize', 15.264521950343806, '28/445', '10/100', 25, 0.8547865168539326),\n",
      " ('compel', 15.313961395462684, '27/445', '153/1604', 26, 0.8523466614362969),\n",
      " ('whip', 13.525187869687215, '31/445', '82/899', 27, 0.8485583232305559),\n",
      " ('see', 11.893076425301842, '40/445', '906/10611', 28, 0.8345454526201874),\n",
      " ('bring', 11.770381856127642, '41/445', '884/10014', 29, 0.8298617890010166),\n",
      " ('chide', 15.401364043647845, '26/445', '12/91', 30, 0.8297320656871219),\n",
      " ('secure', 12.67341571734869, '34/445', '162/1525', 31, 0.8280979922637687),\n",
      " ('NEG_represent',\n",
      "  14.287247228798151,\n",
      "  '29/445',\n",
      "  '15/109',\n",
      "  32,\n",
      "  0.8167199257808474),\n",
      " ('frighten', 13.701487750156957, '30/445', '71/502', 33, 0.804476476118),\n",
      " ('weight', 12.174095653316726, '37/445', '21/158', 34, 0.8027592092163277),\n",
      " ('kill', 13.339843932219082, '32/445', '560/3424', 35, 0.778450855822745),\n",
      " ('have', 12.806998467072845, '33/445', '2268/13768', 36, 0.7752732276113313),\n",
      " ('reduce', 11.366023518537986, '44/445', '203/1347', 37, 0.7678987012337027),\n",
      " ('come', 10.013454129686579, '58/445', '2087/16588', 38, 0.7622643145308778),\n",
      " ('enslave', 15.436330965664183, '25/445', '15/71', 39, 0.7595189112201298),\n",
      " ('NEG_apply', 12.524525459897632, '35/445', '33/171', 40, 0.7507589197713385),\n",
      " ('marry', 11.711933472004603, '43/445', '529/2598', 41, 0.7215662869450139),\n",
      " ('NEG_include', 10.76288645869954, '48/445', '59/300', 42, 0.7214681647940074),\n",
      " ('motion', 11.002111853853421, '47/445', '140/710', 43, 0.721091944927995),\n",
      " ('purchase', 10.26503250220776, '54/445', '143/764', 44, 0.7171715983293134),\n",
      " ('consist', 9.366106937370205, '64/445', '277/1667', 45, 0.7162998860901977),\n",
      " ('seize', 9.1557281743153, '66/445', '450/2664', 46, 0.7100077605695584),\n",
      " ('own', 10.396445831094752, '53/445', '239/1148', 47, 0.7000548095368594),\n",
      " ('portray', 9.883351219645192, '61/445', '56/267', 48, 0.686950300887935),\n",
      " ('recognize', 8.921170580477337, '71/445', '498/2510', 49, 0.6758359819150366),\n",
      " ('induce', 9.907107989620272, '59/445', '243/1032', 50, 0.6657303370786517)]\n"
     ]
    }
   ],
   "source": [
    "noun = \"negro\"\n",
    "for noun2i, j2feature, L, F, feature_type in [(noun2i_adj, j2feature_adj, L_adj, F_adj, \"adj\"), (noun2i_agent, j2feature_agent, L_agent, F_agent, \"agent\"), (noun2i_patient, j2feature_patient, L_patient, F_patient, \"patient\")]:\n",
    "    print(feature_type)\n",
    "    if noun in noun2i:\n",
    "        pp([(j2feature[j], llr, f'{Rr}/{Nc}', f'{Rc}/{Nr}', rank, mutual_affinity) for rank, (j, llr, mutual_affinity, Rr, Nc, Rc, Nr) in enumerate(affinities_for_row(noun2i[noun], L),start=1)][:50])\n",
    "        \n",
    "        "
   ]
  },
  {
   "cell_type": "code",
   "execution_count": null,
   "id": "b4e14489",
   "metadata": {
    "scrolled": true
   },
   "outputs": [],
   "source": [
    "## readying to topic modelling:\n",
    "\n",
    "e.g., L_feature > some_LLR gives us noun, feature pairs with some degree of significant association. we assume these \n",
    "are contextually meaningful sentences.\n",
    "\n",
    "can we use bert topic to allocate topic to every span of text matching L_feature > some_LLR value?\n",
    "then back-calculate a new LLR matrix, of "
   ]
  },
  {
   "cell_type": "code",
   "execution_count": null,
   "id": "b67e8534",
   "metadata": {
    "scrolled": true
   },
   "outputs": [],
   "source": [
    "(L_adj > 100).toarray().sum()"
   ]
  },
  {
   "cell_type": "markdown",
   "id": "df879ff0",
   "metadata": {},
   "source": [
    "# find books matching tuples of interest "
   ]
  },
  {
   "cell_type": "code",
   "execution_count": null,
   "id": "7b39527e",
   "metadata": {
    "scrolled": false
   },
   "outputs": [],
   "source": [
    "tuples_of_interest = [\n",
    "[\"barbarian\", \"negro\", \"adj\"],\n",
    "[\"gypsy\", \"witchy\", \"adj\"],\n",
    "[\"tribe\", \"savage\", \"adj\"],\n",
    "[\"Indians\", \"savage\", \"adj\"],\n",
    "[\"race\", \"savage\", \"adj\"],\n",
    "[\"native\", \"superstitious\", \"adj\"],\n",
    "[\"negro\", \"superstitious\", \"adj\"],\n",
    "[\"culture\", \"primitive\", \"adj\"],\n",
    "[\"race\", \"primitive\", \"adj\"],\n",
    "[\"savage\", \"wily\", \"adj\"],\n",
    "[\"Oriental\", \"wily\", \"adj\"],\n",
    "[\"redskin\", \"wily\", \"adj\"],\n",
    "[\"native\", \"ignorant\", \"adj\"],\n",
    "[\"native\", \"treacherous\", \"adj\"],\n",
    "[\"cripple\", \"miserable\", \"adj\"],\n",
    "[\"cripple\", \"hopeless\", \"adj\"],\n",
    "[\"cripple\", \"hapless\", \"adj\"],\n",
    "[\"cripple\", \"wretched\", \"adj\"],\n",
    "[\"cripple\", \"poor\", \"adj\"],\n",
    "[\"cripple\", \"deformed\", \"adj\"],\n",
    "[\"dwarf\", \"ugly\", \"adj\"],\n",
    "[\"dwarf\", \"misshapen\", \"adj\"],\n",
    "[\"dwarf\", \"hunchbacked\", \"adj\"],\n",
    "[\"dwarf\", \"grotesque\", \"adj\"],\n",
    "[\"dwarf\", \"shrivelled\", \"adj\"],\n",
    "[\"dwarf\", \"hideous\", \"adj\"],\n",
    "[\"dwarf\", \"crooked\", \"adj\"],\n",
    "[\"native\", \"uncivlised\", \"adj\"],\n",
    "[\"native\", \"ignorant\", \"adj\"],\n",
    "[\"native\", \"hostile\", \"adj\"],\n",
    "[\"native\", \"little\", \"adj\"],\n",
    "[\"native\", \"cannibal\", \"adj\"],\n",
    "[\"native\", \"wretched\", \"adj\"],\n",
    "[\"negress\", \"surly\", \"adj\"],\n",
    "[\"negress\", \"full-blooded\", \"adj\"],\n",
    "[\"negress\", \"slatternly\", \"adj\"],\n",
    "[\"negress\", \"big\", \"adj\"],\n",
    "[\"negress\", \"fat\", \"adj\"],\n",
    "[\"negress\", \"huge\", \"adj\"],\n",
    "[\"negress\", \"gigantic\", \"adj\"],\n",
    "[\"negro\", \"half-naked\", \"adj\"],\n",
    "[\"negro\", \"big\", \"adj\"],\n",
    "[\"negro\", \"naked\", \"adj\"],\n",
    "[\"negro\", \"tall\", \"adj\"],\n",
    "[\"negro\", \"burly\", \"adj\"],\n",
    "[\"negro\", \"huge\", \"adj\"],\n",
    "[\"negro\", \"giant\", \"adj\"],\n",
    "[\"negro\", \"diminutive\", \"adj\"],\n",
    "[\"negro\", \"pure-blooded\", \"adj\"],\n",
    "[\"negro\", \"stout\", \"adj\"],\n",
    "[\"negro\", \"gigantic\", \"adj\"],\n",
    "[\"negro\", \"full-blooded\", \"adj\"],\n",
    "[\"nigger\", \"silly\", \"adj\"],\n",
    "[\"nigger\", \"worthless\", \"adj\"],\n",
    "[\"slave\", \"negro\", \"adj\"],\n",
    "[\"servant\", \"native\", \"adj\"],\n",
    "[\"tribe\", \"savage\", \"adj\"],\n",
    "[\"tribe\", \"hostile\", \"adj\"],\n",
    "[\"tribe\", \"primitive\", \"adj\"],\n",
    "[\"tribe\", \"barbarous\", \"adj\"],\n",
    "[\"tribe\", \"warlike\", \"adj\"],\n",
    "[\"tribe\", \"wild\", \"adj\"],\n",
    "[\"tribesman\", \"wild\", \"adj\"],\n",
    "[\"tribesman\", \"savage\", \"adj\"],\n",
    "[\"tribesman\", \"ferocious\", \"adj\"],\n",
    "[\"tribesman\", \"primitive\", \"adj\"],\n",
    "[\"tribesman\", \"quarrelsome\", \"adj\"],\n",
    "[\"oriental\", \"lazy\", \"adj\"],\n",
    "[\"oriental\", \"insensible\", \"adj\"],\n",
    "[\"spinster\", 'sour', 'adj'],\n",
    "[\"spinster\", 'unwanted', 'adj'],\n",
    "[\"bachelor\", 'eligible', 'adj'],\n",
    "#\n",
    "[\"negro\", \"grin\", \"agent\"],\n",
    "[\"negro\", \"obey\", \"agent\"],\n",
    "[\"negro\", \"shuffle\", \"agent\"],\n",
    "[\"negro\", \"murder\", \"agent\"],\n",
    "[\"negro\", \"mutilate\", \"agent\"],\n",
    "[\"negress\", \"grin\", \"agent\"],\n",
    "[\"nigger\", \"NEG_work\", \"agent\"],\n",
    "[\"nigger\", \"moan\", \"agent\"],\n",
    "[\"nigger\", \"rob\", \"agent\"],\n",
    "[\"nigger\", \"groan\", \"agent\"],\n",
    "[\"tribe\", \"fight\", \"agent\"],\n",
    "[\"gypsy\", \"steal\", \"agent\"],\n",
    "#\n",
    "[\"negro\", \"lynch\", \"patient\"],\n",
    "[\"negro\", \"sell\", \"patient\"],\n",
    "[\"nigger\", \"marry\", \"patient\"],\n",
    "[\"nigger\", \"beat\", \"patient\"],\n",
    "[\"nigger\", \"shoot\", \"patient\"],\n",
    "[\"slave\", \"sell\", \"patient\"],\n",
    "[\"slave\", \"torment\", \"patient\"],\n",
    "]"
   ]
  },
  {
   "cell_type": "code",
   "execution_count": null,
   "id": "828f764c",
   "metadata": {
    "scrolled": true
   },
   "outputs": [],
   "source": [
    "def gen_dir(\n",
    "    directory: pathlib.Path, *, pattern: re.Pattern = re.compile(\".+\")\n",
    ") -> typing.Generator:\n",
    "    \"\"\"Return a generator yielding pathlib.Path objects in a directory,\n",
    "    optionally matching a pattern.\n",
    "\n",
    "    Args:\n",
    "        dir (str): directory from which to retrieve file names [default: script dir]\n",
    "        pattern (re.Pattern): regex pattern [default: all files]\n",
    "    \"\"\"\n",
    "\n",
    "    for filename in os.listdir(directory):\n",
    "        if re.match(pattern, filename):\n",
    "            yield directory / filename\n",
    "        else:\n",
    "            continue\n",
    "\n",
    "results = []\n",
    "tuples_dir = pathlib.Path(\"/Users/ryanbrate/surfdrive/Data/LREC_2023/tuples/PG_sample\")\n",
    "for d in ['PR', 'PS']:\n",
    "    for fp in tqdm(gen_dir(tuples_dir/d, pattern=re.compile(\".*\\.json$\"))):\n",
    "        \n",
    "        with open(fp, \"r\") as f:\n",
    "            doc = json.load(f)\n",
    "            \n",
    "        try:\n",
    "            for i in range(0, len(doc)-1, 2):\n",
    "                text = doc[i]\n",
    "                for t in doc[i+1]:\n",
    "                    if t[:3] in tuples_of_interest:\n",
    "                        results.append((d, fp.stem, t[:3]))\n",
    "        except:\n",
    "            pass\n",
    "        "
   ]
  },
  {
   "cell_type": "code",
   "execution_count": null,
   "id": "ba1704cf",
   "metadata": {
    "scrolled": true
   },
   "outputs": [],
   "source": [
    "df = pd.read_csv(\"/Users/ryanbrate/Projects/LREC_2023/sample_PG/PG_index/pg_catalog.csv\")\n",
    "df = df.set_index(\"Text#\")\n",
    "\n",
    "\n",
    "results_ = [ (d, i, df.loc[int(i),\"Title\"],df.loc[int(i),\"Authors\"],  t) for d, i, t in results]\n"
   ]
  },
  {
   "cell_type": "code",
   "execution_count": null,
   "id": "70bb6403",
   "metadata": {
    "scrolled": true
   },
   "outputs": [],
   "source": [
    "[r for r in results if r[1]==\"6173\"]\n",
    "# results"
   ]
  },
  {
   "cell_type": "code",
   "execution_count": null,
   "id": "9ad9521a",
   "metadata": {
    "scrolled": true
   },
   "outputs": [],
   "source": [
    "print(df.loc[61014,:])"
   ]
  },
  {
   "cell_type": "code",
   "execution_count": null,
   "id": "9e07d2fc",
   "metadata": {
    "scrolled": true
   },
   "outputs": [],
   "source": [
    "print(len(results))\n",
    "results_"
   ]
  },
  {
   "cell_type": "code",
   "execution_count": null,
   "id": "ef5c93e5",
   "metadata": {
    "scrolled": true
   },
   "outputs": [],
   "source": [
    "[t for t in results_ if \"Twain\" in str(t[3])]"
   ]
  },
  {
   "cell_type": "code",
   "execution_count": null,
   "id": "dfda7b60",
   "metadata": {
    "scrolled": true
   },
   "outputs": [],
   "source": [
    "[t for t in results_ if \"surly\" in str(t[4])]"
   ]
  },
  {
   "cell_type": "markdown",
   "id": "1b083bb9",
   "metadata": {},
   "source": [
    "## Ranking by book"
   ]
  },
  {
   "cell_type": "code",
   "execution_count": null,
   "id": "7abaeb9f",
   "metadata": {
    "scrolled": true
   },
   "outputs": [],
   "source": [
    "by_book = defaultdict(list)\n",
    "by_author = defaultdict(list)\n",
    "book2count = defaultdict(int)\n",
    "author2count = defaultdict(int)\n",
    "author2i = {}\n",
    "for r in results_:\n",
    "    \n",
    "    by_book[r[1]].append((r[0], r[2], r[3], r[4]))\n",
    "    book2count[r[1]] += 1\n",
    "    \n",
    "    if r[3] not in author2i.keys():\n",
    "        author2i[r[3]] = len(author2i.keys())\n",
    "        \n",
    "    by_author[author2i[r[3]]].append((r[0], r[1], r[2], r[4], r[3]))\n",
    "    author2count[author2i[r[3]]] += 1\n",
    "    "
   ]
  },
  {
   "cell_type": "code",
   "execution_count": null,
   "id": "c21fb07d",
   "metadata": {
    "scrolled": true
   },
   "outputs": [],
   "source": [
    "sorted(book2count.items(), key=lambda x: x[1], reverse=True)"
   ]
  },
  {
   "cell_type": "code",
   "execution_count": null,
   "id": "5047a840",
   "metadata": {
    "scrolled": true
   },
   "outputs": [],
   "source": [
    "by_book['30125']"
   ]
  },
  {
   "cell_type": "code",
   "execution_count": null,
   "id": "cbd44b6f",
   "metadata": {
    "scrolled": true
   },
   "outputs": [],
   "source": [
    "sorted(author2count.items(), key=lambda x: x[1], reverse=True)"
   ]
  },
  {
   "cell_type": "code",
   "execution_count": null,
   "id": "0db24be3",
   "metadata": {
    "scrolled": true
   },
   "outputs": [],
   "source": [
    "by_author[118]"
   ]
  },
  {
   "cell_type": "code",
   "execution_count": null,
   "id": "8dfd9565",
   "metadata": {
    "scrolled": true
   },
   "outputs": [],
   "source": []
  }
 ],
 "metadata": {
  "kernelspec": {
   "display_name": "Python 3 (ipykernel)",
   "language": "python",
   "name": "python3"
  },
  "language_info": {
   "codemirror_mode": {
    "name": "ipython",
    "version": 3
   },
   "file_extension": ".py",
   "mimetype": "text/x-python",
   "name": "python",
   "nbconvert_exporter": "python",
   "pygments_lexer": "ipython3",
   "version": "3.10.8"
  }
 },
 "nbformat": 4,
 "nbformat_minor": 5
}
